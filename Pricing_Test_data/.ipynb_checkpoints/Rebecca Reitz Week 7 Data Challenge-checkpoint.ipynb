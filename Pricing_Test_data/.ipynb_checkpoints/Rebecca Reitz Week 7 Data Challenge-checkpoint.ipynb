{
 "cells": [
  {
   "cell_type": "markdown",
   "metadata": {},
   "source": [
    "# Software Pricing\n",
    "\n",
    "XYZ would like to know whether they should price their software at $39 or at $59. They have been running an A/B test and would like to know the results.\n",
    "\n",
    "### Findings\n",
    "It is found that switching to a $\\$$59 dollar pricing scheme would bring in approximately $\\$$0.92/user whereas the current pricing scheme brings in $0.78/user in spite of the fact that it depletes the conversion rate somewhat. The difference in revenue is statistically signficant and the experiment was overpowered. If this was the only information the company wanted to find, it only needed to run the experiment for 1 or 2 days to have a 90% percent chance of finding a difference between the old and new schemes.\n",
    "\n",
    "At the current number of samples, it is possible to use the conservative Bonferroni correction for multiple observation and examine a huge number of comparisons.\n",
    "\n",
    "In these other comparison, it is revealed that Linux users are unwilling to pay the increased price. XYZ should either stop supporting Linux or sell its software for the lower price on Linux.\n",
    "\n",
    "The revenue is also expected to decrease for users of bing and yahoo search engines. This is likely not too much of a problem. User of Bing, Yahoo, and Linux account for only 4% of XYZ users collectively."
   ]
  },
  {
   "cell_type": "code",
   "execution_count": 1,
   "metadata": {},
   "outputs": [],
   "source": [
    "#import pandas\n",
    "import pandas as pd\n",
    "import scipy.stats as sts\n",
    "import altair as alt\n",
    "alt.renderers.enable('notebook')\n",
    "alt.data_transformers.enable('json')\n",
    "print(alt.renderers.active)"
   ]
  },
  {
   "cell_type": "code",
   "execution_count": 2,
   "metadata": {},
   "outputs": [
    {
     "data": {
      "text/html": [
       "<div>\n",
       "<style scoped>\n",
       "    .dataframe tbody tr th:only-of-type {\n",
       "        vertical-align: middle;\n",
       "    }\n",
       "\n",
       "    .dataframe tbody tr th {\n",
       "        vertical-align: top;\n",
       "    }\n",
       "\n",
       "    .dataframe thead th {\n",
       "        text-align: right;\n",
       "    }\n",
       "</style>\n",
       "<table border=\"1\" class=\"dataframe\">\n",
       "  <thead>\n",
       "    <tr style=\"text-align: right;\">\n",
       "      <th></th>\n",
       "      <th>user_id</th>\n",
       "      <th>timestamp</th>\n",
       "      <th>source</th>\n",
       "      <th>device</th>\n",
       "      <th>operative_system</th>\n",
       "      <th>test</th>\n",
       "      <th>price</th>\n",
       "      <th>converted</th>\n",
       "    </tr>\n",
       "  </thead>\n",
       "  <tbody>\n",
       "    <tr>\n",
       "      <th>0</th>\n",
       "      <td>604839</td>\n",
       "      <td>2015-05-08 03:38:34</td>\n",
       "      <td>ads_facebook</td>\n",
       "      <td>mobile</td>\n",
       "      <td>iOS</td>\n",
       "      <td>0</td>\n",
       "      <td>39</td>\n",
       "      <td>0</td>\n",
       "    </tr>\n",
       "    <tr>\n",
       "      <th>1</th>\n",
       "      <td>624057</td>\n",
       "      <td>2015-05-10 21:08:46</td>\n",
       "      <td>seo-google</td>\n",
       "      <td>mobile</td>\n",
       "      <td>android</td>\n",
       "      <td>0</td>\n",
       "      <td>39</td>\n",
       "      <td>0</td>\n",
       "    </tr>\n",
       "    <tr>\n",
       "      <th>2</th>\n",
       "      <td>317970</td>\n",
       "      <td>2015-04-04 15:01:23</td>\n",
       "      <td>ads-bing</td>\n",
       "      <td>mobile</td>\n",
       "      <td>android</td>\n",
       "      <td>0</td>\n",
       "      <td>39</td>\n",
       "      <td>0</td>\n",
       "    </tr>\n",
       "    <tr>\n",
       "      <th>3</th>\n",
       "      <td>685636</td>\n",
       "      <td>2015-05-07 07:26:01</td>\n",
       "      <td>direct_traffic</td>\n",
       "      <td>mobile</td>\n",
       "      <td>iOS</td>\n",
       "      <td>1</td>\n",
       "      <td>59</td>\n",
       "      <td>0</td>\n",
       "    </tr>\n",
       "    <tr>\n",
       "      <th>4</th>\n",
       "      <td>820854</td>\n",
       "      <td>2015-05-24 11:04:40</td>\n",
       "      <td>ads_facebook</td>\n",
       "      <td>web</td>\n",
       "      <td>mac</td>\n",
       "      <td>0</td>\n",
       "      <td>39</td>\n",
       "      <td>0</td>\n",
       "    </tr>\n",
       "  </tbody>\n",
       "</table>\n",
       "</div>"
      ],
      "text/plain": [
       "   user_id            timestamp          source  device operative_system  \\\n",
       "0   604839  2015-05-08 03:38:34    ads_facebook  mobile              iOS   \n",
       "1   624057  2015-05-10 21:08:46      seo-google  mobile          android   \n",
       "2   317970  2015-04-04 15:01:23        ads-bing  mobile          android   \n",
       "3   685636  2015-05-07 07:26:01  direct_traffic  mobile              iOS   \n",
       "4   820854  2015-05-24 11:04:40    ads_facebook     web              mac   \n",
       "\n",
       "   test  price  converted  \n",
       "0     0     39          0  \n",
       "1     0     39          0  \n",
       "2     0     39          0  \n",
       "3     1     59          0  \n",
       "4     0     39          0  "
      ]
     },
     "execution_count": 2,
     "metadata": {},
     "output_type": "execute_result"
    }
   ],
   "source": [
    "tests = pd.read_csv('test_results.csv')\n",
    "tests.head()"
   ]
  },
  {
   "cell_type": "code",
   "execution_count": 3,
   "metadata": {},
   "outputs": [
    {
     "data": {
      "text/html": [
       "<div>\n",
       "<style scoped>\n",
       "    .dataframe tbody tr th:only-of-type {\n",
       "        vertical-align: middle;\n",
       "    }\n",
       "\n",
       "    .dataframe tbody tr th {\n",
       "        vertical-align: top;\n",
       "    }\n",
       "\n",
       "    .dataframe thead th {\n",
       "        text-align: right;\n",
       "    }\n",
       "</style>\n",
       "<table border=\"1\" class=\"dataframe\">\n",
       "  <thead>\n",
       "    <tr style=\"text-align: right;\">\n",
       "      <th></th>\n",
       "      <th>user_id</th>\n",
       "      <th>city</th>\n",
       "      <th>country</th>\n",
       "      <th>lat</th>\n",
       "      <th>long</th>\n",
       "    </tr>\n",
       "  </thead>\n",
       "  <tbody>\n",
       "    <tr>\n",
       "      <th>0</th>\n",
       "      <td>510335</td>\n",
       "      <td>Peabody</td>\n",
       "      <td>USA</td>\n",
       "      <td>42.53</td>\n",
       "      <td>-70.97</td>\n",
       "    </tr>\n",
       "    <tr>\n",
       "      <th>1</th>\n",
       "      <td>89568</td>\n",
       "      <td>Reno</td>\n",
       "      <td>USA</td>\n",
       "      <td>39.54</td>\n",
       "      <td>-119.82</td>\n",
       "    </tr>\n",
       "    <tr>\n",
       "      <th>2</th>\n",
       "      <td>434134</td>\n",
       "      <td>Rialto</td>\n",
       "      <td>USA</td>\n",
       "      <td>34.11</td>\n",
       "      <td>-117.39</td>\n",
       "    </tr>\n",
       "    <tr>\n",
       "      <th>3</th>\n",
       "      <td>289769</td>\n",
       "      <td>Carson City</td>\n",
       "      <td>USA</td>\n",
       "      <td>39.15</td>\n",
       "      <td>-119.74</td>\n",
       "    </tr>\n",
       "    <tr>\n",
       "      <th>4</th>\n",
       "      <td>939586</td>\n",
       "      <td>Chicago</td>\n",
       "      <td>USA</td>\n",
       "      <td>41.84</td>\n",
       "      <td>-87.68</td>\n",
       "    </tr>\n",
       "  </tbody>\n",
       "</table>\n",
       "</div>"
      ],
      "text/plain": [
       "   user_id         city country    lat    long\n",
       "0   510335      Peabody     USA  42.53  -70.97\n",
       "1    89568         Reno     USA  39.54 -119.82\n",
       "2   434134       Rialto     USA  34.11 -117.39\n",
       "3   289769  Carson City     USA  39.15 -119.74\n",
       "4   939586      Chicago     USA  41.84  -87.68"
      ]
     },
     "execution_count": 3,
     "metadata": {},
     "output_type": "execute_result"
    }
   ],
   "source": [
    "users = pd.read_csv('user_table.csv')\n",
    "users.head()"
   ]
  },
  {
   "cell_type": "code",
   "execution_count": 7,
   "metadata": {},
   "outputs": [],
   "source": [
    "all_test = tests.join(users.set_index('user_id'), on='user_id')"
   ]
  },
  {
   "cell_type": "code",
   "execution_count": 8,
   "metadata": {},
   "outputs": [
    {
     "data": {
      "text/plain": [
       "user_id                 0\n",
       "timestamp               0\n",
       "source                  0\n",
       "device                  0\n",
       "operative_system        0\n",
       "test                    0\n",
       "price                   0\n",
       "converted               0\n",
       "city                41184\n",
       "country             41184\n",
       "lat                 41184\n",
       "long                41184\n",
       "dtype: int64"
      ]
     },
     "execution_count": 8,
     "metadata": {},
     "output_type": "execute_result"
    }
   ],
   "source": [
    "#NA values exists on locations of some users\n",
    "all_test.isna().sum()"
   ]
  },
  {
   "cell_type": "code",
   "execution_count": 12,
   "metadata": {},
   "outputs": [
    {
     "data": {
      "application/javascript": [
       "var spec = {\"config\": {\"view\": {\"width\": 400, \"height\": 300}}, \"data\": {\"url\": \"altair-data-35036494b09a9afbfa350f3db6d780cf.json\", \"format\": {\"type\": \"json\"}}, \"mark\": \"point\", \"encoding\": {\"x\": {\"type\": \"ordinal\", \"field\": \"test\"}, \"y\": {\"type\": \"ordinal\", \"field\": \"price\"}}, \"$schema\": \"https://vega.github.io/schema/vega-lite/v2.6.0.json\"};\n",
       "var opt = {};\n",
       "var type = \"vega-lite\";\n",
       "var id = \"0a655f50-638a-4267-a2f3-ef942a1df784\";\n",
       "\n",
       "var output_area = this;\n",
       "\n",
       "require([\"nbextensions/jupyter-vega/index\"], function(vega) {\n",
       "  var target = document.createElement(\"div\");\n",
       "  target.id = id;\n",
       "  target.className = \"vega-embed\";\n",
       "\n",
       "  var style = document.createElement(\"style\");\n",
       "  style.textContent = [\n",
       "    \".vega-embed .error p {\",\n",
       "    \"  color: firebrick;\",\n",
       "    \"  font-size: 14px;\",\n",
       "    \"}\",\n",
       "  ].join(\"\\\\n\");\n",
       "\n",
       "  // element is a jQuery wrapped DOM element inside the output area\n",
       "  // see http://ipython.readthedocs.io/en/stable/api/generated/\\\n",
       "  // IPython.display.html#IPython.display.Javascript.__init__\n",
       "  element[0].appendChild(target);\n",
       "  element[0].appendChild(style);\n",
       "\n",
       "  vega.render(\"#\" + id, spec, type, opt, output_area);\n",
       "}, function (err) {\n",
       "  if (err.requireType !== \"scripterror\") {\n",
       "    throw(err);\n",
       "  }\n",
       "});\n"
      ],
      "text/plain": [
       "<vega.vegalite.VegaLite at 0x1202234e0>"
      ]
     },
     "metadata": {
      "jupyter-vega": "#0a655f50-638a-4267-a2f3-ef942a1df784"
     },
     "output_type": "display_data"
    },
    {
     "data": {
      "text/plain": []
     },
     "execution_count": 12,
     "metadata": {},
     "output_type": "execute_result"
    },
    {
     "data": {
      "image/png": "[encoded data removed]"
     },
     "metadata": {
      "jupyter-vega": "#0a655f50-638a-4267-a2f3-ef942a1df784"
     },
     "output_type": "display_data"
    }
   ],
   "source": [
    "#There are some cases where people were marked as the control group\n",
    "#but saw the higher price\n",
    "#And vica versa\n",
    "alt.Chart(all_test.reset_index()).mark_point().encode(\n",
    "    x='test:O',\n",
    "    y='price:O'\n",
    ")"
   ]
  },
  {
   "cell_type": "code",
   "execution_count": 21,
   "metadata": {},
   "outputs": [],
   "source": [
    "all_test['converted']=pd.to_numeric(all_test['converted'])"
   ]
  },
  {
   "cell_type": "markdown",
   "metadata": {},
   "source": [
    "## Will the new price bring in more revenue?"
   ]
  },
  {
   "cell_type": "code",
   "execution_count": 41,
   "metadata": {},
   "outputs": [],
   "source": [
    "basic_groups = all_test.groupby('price').agg({'converted':'mean', 'test':'count'}).rename(columns = {'converted':'conversion_rate', 'test':'sample_count'})"
   ]
  },
  {
   "cell_type": "code",
   "execution_count": 42,
   "metadata": {},
   "outputs": [],
   "source": [
    "basic_groups = basic_groups.reset_index()"
   ]
  },
  {
   "cell_type": "code",
   "execution_count": 43,
   "metadata": {},
   "outputs": [
    {
     "data": {
      "text/html": [
       "<div>\n",
       "<style scoped>\n",
       "    .dataframe tbody tr th:only-of-type {\n",
       "        vertical-align: middle;\n",
       "    }\n",
       "\n",
       "    .dataframe tbody tr th {\n",
       "        vertical-align: top;\n",
       "    }\n",
       "\n",
       "    .dataframe thead th {\n",
       "        text-align: right;\n",
       "    }\n",
       "</style>\n",
       "<table border=\"1\" class=\"dataframe\">\n",
       "  <thead>\n",
       "    <tr style=\"text-align: right;\">\n",
       "      <th></th>\n",
       "      <th>price</th>\n",
       "      <th>conversion_rate</th>\n",
       "      <th>sample_count</th>\n",
       "    </tr>\n",
       "  </thead>\n",
       "  <tbody>\n",
       "    <tr>\n",
       "      <th>0</th>\n",
       "      <td>39</td>\n",
       "      <td>0.019889</td>\n",
       "      <td>202672</td>\n",
       "    </tr>\n",
       "    <tr>\n",
       "      <th>1</th>\n",
       "      <td>59</td>\n",
       "      <td>0.015570</td>\n",
       "      <td>114128</td>\n",
       "    </tr>\n",
       "  </tbody>\n",
       "</table>\n",
       "</div>"
      ],
      "text/plain": [
       "   price  conversion_rate  sample_count\n",
       "0     39         0.019889        202672\n",
       "1     59         0.015570        114128"
      ]
     },
     "execution_count": 43,
     "metadata": {},
     "output_type": "execute_result"
    }
   ],
   "source": [
    "basic_groups"
   ]
  },
  {
   "cell_type": "code",
   "execution_count": 38,
   "metadata": {},
   "outputs": [],
   "source": [
    "def var_of_binomial(p):\n",
    "    var = p*(1-p)\n",
    "    return var"
   ]
  },
  {
   "cell_type": "code",
   "execution_count": 103,
   "metadata": {},
   "outputs": [],
   "source": [
    "def add_stats_after_aggregation(df):\n",
    "    df['var']=var_of_binomial(df['conversion_rate'])\n",
    "    df['se']=df['var']/(df['sample_count']**.5)\n",
    "    df['rev']= df['conversion_rate']*df['price']\n",
    "    df['rev_var']=df['var']*df['price']\n",
    "    return df"
   ]
  },
  {
   "cell_type": "code",
   "execution_count": 104,
   "metadata": {},
   "outputs": [],
   "source": [
    "basic_groups=add_stats_after_aggregation(basic_groups)"
   ]
  },
  {
   "cell_type": "code",
   "execution_count": 105,
   "metadata": {},
   "outputs": [
    {
     "data": {
      "text/html": [
       "<div>\n",
       "<style scoped>\n",
       "    .dataframe tbody tr th:only-of-type {\n",
       "        vertical-align: middle;\n",
       "    }\n",
       "\n",
       "    .dataframe tbody tr th {\n",
       "        vertical-align: top;\n",
       "    }\n",
       "\n",
       "    .dataframe thead th {\n",
       "        text-align: right;\n",
       "    }\n",
       "</style>\n",
       "<table border=\"1\" class=\"dataframe\">\n",
       "  <thead>\n",
       "    <tr style=\"text-align: right;\">\n",
       "      <th></th>\n",
       "      <th>price</th>\n",
       "      <th>conversion_rate</th>\n",
       "      <th>sample_count</th>\n",
       "      <th>var</th>\n",
       "      <th>se</th>\n",
       "      <th>rev</th>\n",
       "      <th>rev_var</th>\n",
       "    </tr>\n",
       "  </thead>\n",
       "  <tbody>\n",
       "    <tr>\n",
       "      <th>0</th>\n",
       "      <td>39</td>\n",
       "      <td>0.019889</td>\n",
       "      <td>202672</td>\n",
       "      <td>0.019494</td>\n",
       "      <td>0.000043</td>\n",
       "      <td>0.775682</td>\n",
       "      <td>0.760254</td>\n",
       "    </tr>\n",
       "    <tr>\n",
       "      <th>1</th>\n",
       "      <td>59</td>\n",
       "      <td>0.015570</td>\n",
       "      <td>114128</td>\n",
       "      <td>0.015328</td>\n",
       "      <td>0.000045</td>\n",
       "      <td>0.918644</td>\n",
       "      <td>0.904340</td>\n",
       "    </tr>\n",
       "  </tbody>\n",
       "</table>\n",
       "</div>"
      ],
      "text/plain": [
       "   price  conversion_rate  sample_count       var        se       rev  \\\n",
       "0     39         0.019889        202672  0.019494  0.000043  0.775682   \n",
       "1     59         0.015570        114128  0.015328  0.000045  0.918644   \n",
       "\n",
       "    rev_var  \n",
       "0  0.760254  \n",
       "1  0.904340  "
      ]
     },
     "execution_count": 105,
     "metadata": {},
     "output_type": "execute_result"
    }
   ],
   "source": [
    "basic_groups"
   ]
  },
  {
   "cell_type": "code",
   "execution_count": 119,
   "metadata": {},
   "outputs": [],
   "source": [
    "def stats_for_ttest(sample_1,sample_2):\n",
    "    sed = (sample_1['se']**2+sample_2['se']**2)**.5\n",
    "    print('sed: %.7f' % sed)\n",
    "    t_stat = (sample_1['conversion_rate'] - sample_2['conversion_rate'])/sed\n",
    "    print('t-stat: %.3f' % t_stat)\n",
    "    dof = sample_1['sample_count']+sample_2['sample_count'] - 2\n",
    "    p = (1 - sts.t.cdf(abs(t_stat), dof)) * 2\n",
    "    print('p-value: %.7f' % p)\n",
    "    return t_stat, dof"
   ]
  },
  {
   "cell_type": "code",
   "execution_count": 120,
   "metadata": {},
   "outputs": [
    {
     "name": "stdout",
     "output_type": "stream",
     "text": [
      "sed: 0.0000627\n",
      "t-stat: 68.864\n",
      "p-value: 0.0000000\n"
     ]
    }
   ],
   "source": [
    "(t_stat, dof) = stats_for_ttest(basic_groups.iloc[0], basic_groups.iloc[1])"
   ]
  },
  {
   "cell_type": "code",
   "execution_count": 121,
   "metadata": {},
   "outputs": [],
   "source": [
    "alpha = 0.05\n",
    "cv = sts.t.ppf(1.0 - alpha, dof)"
   ]
  },
  {
   "cell_type": "code",
   "execution_count": 122,
   "metadata": {},
   "outputs": [
    {
     "data": {
      "text/plain": [
       "1.6448584368733485"
      ]
     },
     "execution_count": 122,
     "metadata": {},
     "output_type": "execute_result"
    }
   ],
   "source": [
    "cv #The critical value is much less than the t-stat, so the test is likely overpowered"
   ]
  },
  {
   "cell_type": "code",
   "execution_count": 79,
   "metadata": {},
   "outputs": [],
   "source": [
    "#We'll need power analysis to find an appropriate sample size\n",
    "from statsmodels.stats.power import TTestIndPower "
   ]
  },
  {
   "cell_type": "code",
   "execution_count": 114,
   "metadata": {},
   "outputs": [],
   "source": [
    "effect = (basic_groups.iloc[0]['rev'] - basic_groups.iloc[1]['rev'])/basic_groups.iloc[0]['rev_var']\n",
    "alpha = 0.05\n",
    "power = 0.9"
   ]
  },
  {
   "cell_type": "code",
   "execution_count": 115,
   "metadata": {},
   "outputs": [
    {
     "name": "stdout",
     "output_type": "stream",
     "text": [
      "Sample Size: 892.725\n"
     ]
    }
   ],
   "source": [
    "# perform power analysis\n",
    "analysis = TTestIndPower()\n",
    "result = analysis.solve_power(effect, power=power, nobs1=None, ratio=0.5, alpha=alpha)\n",
    "print('Sample Size: %.3f' % result)"
   ]
  },
  {
   "cell_type": "code",
   "execution_count": 90,
   "metadata": {},
   "outputs": [],
   "source": [
    "#A little under a thousand people were needed for the experiment\n",
    "#  pd.Grouper(key='occurred_at', freq='W-MON'\n",
    "all_test['timestamp']=pd.to_datetime(all_test['timestamp'],errors='coerce')\n",
    "date_counts = all_test.groupby(pd.Grouper(key='timestamp', freq='D')).agg({'converted':'count'}).rename(columns={'converted':'samples'})"
   ]
  },
  {
   "cell_type": "code",
   "execution_count": 123,
   "metadata": {},
   "outputs": [
    {
     "data": {
      "text/plain": [
       "samples    1280\n",
       "dtype: int64"
      ]
     },
     "execution_count": 123,
     "metadata": {},
     "output_type": "execute_result"
    }
   ],
   "source": [
    "date_counts.min() #plenty of samples were collected each day\n",
    "#one or two days would have been totally adequate for this experiment"
   ]
  },
  {
   "cell_type": "markdown",
   "metadata": {},
   "source": [
    "## Time to Get Sophisticated\n",
    "\n",
    "It may be more optimal to use both schemes in different regions (perhaps different countries). Let's see if that's the case."
   ]
  },
  {
   "cell_type": "code",
   "execution_count": 94,
   "metadata": {},
   "outputs": [
    {
     "data": {
      "text/plain": [
       "array(['USA', nan], dtype=object)"
      ]
     },
     "execution_count": 94,
     "metadata": {},
     "output_type": "execute_result"
    }
   ],
   "source": [
    "#We could look for differences between countries\n",
    "all_test['country'].unique()\n",
    "#Ha. Nevermind. It's all in the US. Why do we need the user data at all?"
   ]
  },
  {
   "cell_type": "code",
   "execution_count": 148,
   "metadata": {},
   "outputs": [],
   "source": [
    "devices = all_test.groupby(['device','price']).agg({'converted':'mean', 'test':'count'}).rename(columns = {'converted':'conversion_rate', 'test':'sample_count'})\n",
    "devices = devices.reset_index()"
   ]
  },
  {
   "cell_type": "code",
   "execution_count": 149,
   "metadata": {},
   "outputs": [
    {
     "data": {
      "text/html": [
       "<div>\n",
       "<style scoped>\n",
       "    .dataframe tbody tr th:only-of-type {\n",
       "        vertical-align: middle;\n",
       "    }\n",
       "\n",
       "    .dataframe tbody tr th {\n",
       "        vertical-align: top;\n",
       "    }\n",
       "\n",
       "    .dataframe thead th {\n",
       "        text-align: right;\n",
       "    }\n",
       "</style>\n",
       "<table border=\"1\" class=\"dataframe\">\n",
       "  <thead>\n",
       "    <tr style=\"text-align: right;\">\n",
       "      <th></th>\n",
       "      <th>device</th>\n",
       "      <th>price</th>\n",
       "      <th>conversion_rate</th>\n",
       "      <th>sample_count</th>\n",
       "      <th>var</th>\n",
       "      <th>se</th>\n",
       "      <th>rev</th>\n",
       "      <th>rev_var</th>\n",
       "    </tr>\n",
       "  </thead>\n",
       "  <tbody>\n",
       "    <tr>\n",
       "      <th>0</th>\n",
       "      <td>mobile</td>\n",
       "      <td>39</td>\n",
       "      <td>0.019865</td>\n",
       "      <td>120461</td>\n",
       "      <td>0.019471</td>\n",
       "      <td>0.000056</td>\n",
       "      <td>0.774749</td>\n",
       "      <td>0.759358</td>\n",
       "    </tr>\n",
       "    <tr>\n",
       "      <th>1</th>\n",
       "      <td>mobile</td>\n",
       "      <td>59</td>\n",
       "      <td>0.016164</td>\n",
       "      <td>66010</td>\n",
       "      <td>0.015903</td>\n",
       "      <td>0.000062</td>\n",
       "      <td>0.953689</td>\n",
       "      <td>0.938273</td>\n",
       "    </tr>\n",
       "    <tr>\n",
       "      <th>2</th>\n",
       "      <td>web</td>\n",
       "      <td>39</td>\n",
       "      <td>0.019924</td>\n",
       "      <td>82211</td>\n",
       "      <td>0.019527</td>\n",
       "      <td>0.000068</td>\n",
       "      <td>0.777049</td>\n",
       "      <td>0.761567</td>\n",
       "    </tr>\n",
       "    <tr>\n",
       "      <th>3</th>\n",
       "      <td>web</td>\n",
       "      <td>59</td>\n",
       "      <td>0.014755</td>\n",
       "      <td>48118</td>\n",
       "      <td>0.014538</td>\n",
       "      <td>0.000066</td>\n",
       "      <td>0.870568</td>\n",
       "      <td>0.857723</td>\n",
       "    </tr>\n",
       "  </tbody>\n",
       "</table>\n",
       "</div>"
      ],
      "text/plain": [
       "   device  price  conversion_rate  sample_count       var        se       rev  \\\n",
       "0  mobile     39         0.019865        120461  0.019471  0.000056  0.774749   \n",
       "1  mobile     59         0.016164         66010  0.015903  0.000062  0.953689   \n",
       "2     web     39         0.019924         82211  0.019527  0.000068  0.777049   \n",
       "3     web     59         0.014755         48118  0.014538  0.000066  0.870568   \n",
       "\n",
       "    rev_var  \n",
       "0  0.759358  \n",
       "1  0.938273  \n",
       "2  0.761567  \n",
       "3  0.857723  "
      ]
     },
     "execution_count": 149,
     "metadata": {},
     "output_type": "execute_result"
    }
   ],
   "source": [
    "devices = add_stats_after_aggregation(devices)\n",
    "devices.head()"
   ]
  },
  {
   "cell_type": "code",
   "execution_count": 127,
   "metadata": {},
   "outputs": [
    {
     "name": "stdout",
     "output_type": "stream",
     "text": [
      "sed: 0.0000907\n",
      "t-stat: 15.536\n",
      "p-value: 0.0000000\n"
     ]
    },
    {
     "data": {
      "text/plain": [
       "(15.53562960759471, 114126)"
      ]
     },
     "execution_count": 127,
     "metadata": {},
     "output_type": "execute_result"
    }
   ],
   "source": [
    "stats_for_ttest(devices.iloc[1],devices.iloc[3]) #Still way overpowered\n",
    "#The conversion rate at the higher price is lower amongst web users, but that's okay"
   ]
  },
  {
   "cell_type": "code",
   "execution_count": 157,
   "metadata": {},
   "outputs": [
    {
     "data": {
      "application/javascript": [
       "var spec = {\"config\": {\"view\": {\"width\": 400, \"height\": 300}}, \"data\": {\"url\": \"altair-data-e42f6cbf47abd6a7a49dbadc3abe134f.json\", \"format\": {\"type\": \"json\"}}, \"mark\": \"point\", \"encoding\": {\"color\": {\"type\": \"ordinal\", \"field\": \"price\"}, \"x\": {\"type\": \"ordinal\", \"field\": \"device\"}, \"y\": {\"type\": \"quantitative\", \"field\": \"rev\"}}, \"$schema\": \"https://vega.github.io/schema/vega-lite/v2.6.0.json\"};\n",
       "var opt = {};\n",
       "var type = \"vega-lite\";\n",
       "var id = \"4effa371-6573-4033-8c2a-4c8cb5132cb2\";\n",
       "\n",
       "var output_area = this;\n",
       "\n",
       "require([\"nbextensions/jupyter-vega/index\"], function(vega) {\n",
       "  var target = document.createElement(\"div\");\n",
       "  target.id = id;\n",
       "  target.className = \"vega-embed\";\n",
       "\n",
       "  var style = document.createElement(\"style\");\n",
       "  style.textContent = [\n",
       "    \".vega-embed .error p {\",\n",
       "    \"  color: firebrick;\",\n",
       "    \"  font-size: 14px;\",\n",
       "    \"}\",\n",
       "  ].join(\"\\\\n\");\n",
       "\n",
       "  // element is a jQuery wrapped DOM element inside the output area\n",
       "  // see http://ipython.readthedocs.io/en/stable/api/generated/\\\n",
       "  // IPython.display.html#IPython.display.Javascript.__init__\n",
       "  element[0].appendChild(target);\n",
       "  element[0].appendChild(style);\n",
       "\n",
       "  vega.render(\"#\" + id, spec, type, opt, output_area);\n",
       "}, function (err) {\n",
       "  if (err.requireType !== \"scripterror\") {\n",
       "    throw(err);\n",
       "  }\n",
       "});\n"
      ],
      "text/plain": [
       "<vega.vegalite.VegaLite at 0x122951ac8>"
      ]
     },
     "metadata": {
      "jupyter-vega": "#4effa371-6573-4033-8c2a-4c8cb5132cb2"
     },
     "output_type": "display_data"
    },
    {
     "data": {
      "text/plain": []
     },
     "execution_count": 157,
     "metadata": {},
     "output_type": "execute_result"
    },
    {
     "data": {
      "image/png": "[encoded data removed]"
     },
     "metadata": {
      "jupyter-vega": "#4effa371-6573-4033-8c2a-4c8cb5132cb2"
     },
     "output_type": "display_data"
    }
   ],
   "source": [
    "alt.Chart(devices.reset_index()).mark_point().encode(\n",
    "    x='device:O',\n",
    "    y='rev:Q',\n",
    "    color = 'price:O'\n",
    ")"
   ]
  },
  {
   "cell_type": "code",
   "execution_count": 150,
   "metadata": {},
   "outputs": [
    {
     "data": {
      "text/html": [
       "<div>\n",
       "<style scoped>\n",
       "    .dataframe tbody tr th:only-of-type {\n",
       "        vertical-align: middle;\n",
       "    }\n",
       "\n",
       "    .dataframe tbody tr th {\n",
       "        vertical-align: top;\n",
       "    }\n",
       "\n",
       "    .dataframe thead th {\n",
       "        text-align: right;\n",
       "    }\n",
       "</style>\n",
       "<table border=\"1\" class=\"dataframe\">\n",
       "  <thead>\n",
       "    <tr style=\"text-align: right;\">\n",
       "      <th></th>\n",
       "      <th>source</th>\n",
       "      <th>price</th>\n",
       "      <th>conversion_rate</th>\n",
       "      <th>sample_count</th>\n",
       "      <th>var</th>\n",
       "      <th>se</th>\n",
       "      <th>rev</th>\n",
       "      <th>rev_var</th>\n",
       "    </tr>\n",
       "  </thead>\n",
       "  <tbody>\n",
       "    <tr>\n",
       "      <th>0</th>\n",
       "      <td>ads-bing</td>\n",
       "      <td>39</td>\n",
       "      <td>0.013355</td>\n",
       "      <td>14601</td>\n",
       "      <td>0.013177</td>\n",
       "      <td>0.000109</td>\n",
       "      <td>0.520855</td>\n",
       "      <td>0.513899</td>\n",
       "    </tr>\n",
       "    <tr>\n",
       "      <th>1</th>\n",
       "      <td>ads-bing</td>\n",
       "      <td>59</td>\n",
       "      <td>0.009550</td>\n",
       "      <td>8272</td>\n",
       "      <td>0.009459</td>\n",
       "      <td>0.000104</td>\n",
       "      <td>0.563467</td>\n",
       "      <td>0.558086</td>\n",
       "    </tr>\n",
       "    <tr>\n",
       "      <th>2</th>\n",
       "      <td>ads-google</td>\n",
       "      <td>39</td>\n",
       "      <td>0.022555</td>\n",
       "      <td>37863</td>\n",
       "      <td>0.022046</td>\n",
       "      <td>0.000113</td>\n",
       "      <td>0.879645</td>\n",
       "      <td>0.859805</td>\n",
       "    </tr>\n",
       "    <tr>\n",
       "      <th>3</th>\n",
       "      <td>ads-google</td>\n",
       "      <td>59</td>\n",
       "      <td>0.019613</td>\n",
       "      <td>21516</td>\n",
       "      <td>0.019229</td>\n",
       "      <td>0.000131</td>\n",
       "      <td>1.157185</td>\n",
       "      <td>1.134489</td>\n",
       "    </tr>\n",
       "    <tr>\n",
       "      <th>4</th>\n",
       "      <td>ads-yahoo</td>\n",
       "      <td>39</td>\n",
       "      <td>0.016812</td>\n",
       "      <td>4818</td>\n",
       "      <td>0.016529</td>\n",
       "      <td>0.000238</td>\n",
       "      <td>0.655666</td>\n",
       "      <td>0.644643</td>\n",
       "    </tr>\n",
       "    <tr>\n",
       "      <th>5</th>\n",
       "      <td>ads-yahoo</td>\n",
       "      <td>59</td>\n",
       "      <td>0.011212</td>\n",
       "      <td>2765</td>\n",
       "      <td>0.011086</td>\n",
       "      <td>0.000211</td>\n",
       "      <td>0.661483</td>\n",
       "      <td>0.654067</td>\n",
       "    </tr>\n",
       "    <tr>\n",
       "      <th>6</th>\n",
       "      <td>ads_facebook</td>\n",
       "      <td>39</td>\n",
       "      <td>0.023643</td>\n",
       "      <td>34090</td>\n",
       "      <td>0.023084</td>\n",
       "      <td>0.000125</td>\n",
       "      <td>0.922089</td>\n",
       "      <td>0.900287</td>\n",
       "    </tr>\n",
       "    <tr>\n",
       "      <th>7</th>\n",
       "      <td>ads_facebook</td>\n",
       "      <td>59</td>\n",
       "      <td>0.016886</td>\n",
       "      <td>19306</td>\n",
       "      <td>0.016601</td>\n",
       "      <td>0.000119</td>\n",
       "      <td>0.996271</td>\n",
       "      <td>0.979448</td>\n",
       "    </tr>\n",
       "    <tr>\n",
       "      <th>8</th>\n",
       "      <td>ads_other</td>\n",
       "      <td>39</td>\n",
       "      <td>0.015458</td>\n",
       "      <td>19278</td>\n",
       "      <td>0.015219</td>\n",
       "      <td>0.000110</td>\n",
       "      <td>0.602863</td>\n",
       "      <td>0.593544</td>\n",
       "    </tr>\n",
       "    <tr>\n",
       "      <th>9</th>\n",
       "      <td>ads_other</td>\n",
       "      <td>59</td>\n",
       "      <td>0.012361</td>\n",
       "      <td>10598</td>\n",
       "      <td>0.012208</td>\n",
       "      <td>0.000119</td>\n",
       "      <td>0.729289</td>\n",
       "      <td>0.720274</td>\n",
       "    </tr>\n",
       "    <tr>\n",
       "      <th>10</th>\n",
       "      <td>direct_traffic</td>\n",
       "      <td>39</td>\n",
       "      <td>0.013497</td>\n",
       "      <td>38750</td>\n",
       "      <td>0.013315</td>\n",
       "      <td>0.000068</td>\n",
       "      <td>0.526374</td>\n",
       "      <td>0.519270</td>\n",
       "    </tr>\n",
       "    <tr>\n",
       "      <th>11</th>\n",
       "      <td>direct_traffic</td>\n",
       "      <td>59</td>\n",
       "      <td>0.010182</td>\n",
       "      <td>21607</td>\n",
       "      <td>0.010078</td>\n",
       "      <td>0.000069</td>\n",
       "      <td>0.600731</td>\n",
       "      <td>0.594615</td>\n",
       "    </tr>\n",
       "    <tr>\n",
       "      <th>12</th>\n",
       "      <td>friend_referral</td>\n",
       "      <td>39</td>\n",
       "      <td>0.041679</td>\n",
       "      <td>13124</td>\n",
       "      <td>0.039942</td>\n",
       "      <td>0.000349</td>\n",
       "      <td>1.625495</td>\n",
       "      <td>1.557746</td>\n",
       "    </tr>\n",
       "    <tr>\n",
       "      <th>13</th>\n",
       "      <td>friend_referral</td>\n",
       "      <td>59</td>\n",
       "      <td>0.033549</td>\n",
       "      <td>7571</td>\n",
       "      <td>0.032424</td>\n",
       "      <td>0.000373</td>\n",
       "      <td>1.979395</td>\n",
       "      <td>1.912988</td>\n",
       "    </tr>\n",
       "    <tr>\n",
       "      <th>14</th>\n",
       "      <td>seo-bing</td>\n",
       "      <td>39</td>\n",
       "      <td>0.030008</td>\n",
       "      <td>1333</td>\n",
       "      <td>0.029107</td>\n",
       "      <td>0.000797</td>\n",
       "      <td>1.170293</td>\n",
       "      <td>1.135175</td>\n",
       "    </tr>\n",
       "    <tr>\n",
       "      <th>15</th>\n",
       "      <td>seo-bing</td>\n",
       "      <td>59</td>\n",
       "      <td>0.013415</td>\n",
       "      <td>820</td>\n",
       "      <td>0.013235</td>\n",
       "      <td>0.000462</td>\n",
       "      <td>0.791463</td>\n",
       "      <td>0.780846</td>\n",
       "    </tr>\n",
       "    <tr>\n",
       "      <th>16</th>\n",
       "      <td>seo-google</td>\n",
       "      <td>39</td>\n",
       "      <td>0.017482</td>\n",
       "      <td>15101</td>\n",
       "      <td>0.017177</td>\n",
       "      <td>0.000140</td>\n",
       "      <td>0.681809</td>\n",
       "      <td>0.669890</td>\n",
       "    </tr>\n",
       "    <tr>\n",
       "      <th>17</th>\n",
       "      <td>seo-google</td>\n",
       "      <td>59</td>\n",
       "      <td>0.016101</td>\n",
       "      <td>8074</td>\n",
       "      <td>0.015842</td>\n",
       "      <td>0.000176</td>\n",
       "      <td>0.949963</td>\n",
       "      <td>0.934667</td>\n",
       "    </tr>\n",
       "    <tr>\n",
       "      <th>18</th>\n",
       "      <td>seo-other</td>\n",
       "      <td>39</td>\n",
       "      <td>0.017502</td>\n",
       "      <td>5885</td>\n",
       "      <td>0.017196</td>\n",
       "      <td>0.000224</td>\n",
       "      <td>0.682583</td>\n",
       "      <td>0.670636</td>\n",
       "    </tr>\n",
       "    <tr>\n",
       "      <th>19</th>\n",
       "      <td>seo-other</td>\n",
       "      <td>59</td>\n",
       "      <td>0.012444</td>\n",
       "      <td>3375</td>\n",
       "      <td>0.012290</td>\n",
       "      <td>0.000212</td>\n",
       "      <td>0.734222</td>\n",
       "      <td>0.725085</td>\n",
       "    </tr>\n",
       "    <tr>\n",
       "      <th>20</th>\n",
       "      <td>seo-yahoo</td>\n",
       "      <td>39</td>\n",
       "      <td>0.019513</td>\n",
       "      <td>4356</td>\n",
       "      <td>0.019133</td>\n",
       "      <td>0.000290</td>\n",
       "      <td>0.761019</td>\n",
       "      <td>0.746169</td>\n",
       "    </tr>\n",
       "    <tr>\n",
       "      <th>21</th>\n",
       "      <td>seo-yahoo</td>\n",
       "      <td>59</td>\n",
       "      <td>0.010433</td>\n",
       "      <td>2492</td>\n",
       "      <td>0.010325</td>\n",
       "      <td>0.000207</td>\n",
       "      <td>0.615570</td>\n",
       "      <td>0.609147</td>\n",
       "    </tr>\n",
       "    <tr>\n",
       "      <th>22</th>\n",
       "      <td>seo_facebook</td>\n",
       "      <td>39</td>\n",
       "      <td>0.017442</td>\n",
       "      <td>13473</td>\n",
       "      <td>0.017138</td>\n",
       "      <td>0.000148</td>\n",
       "      <td>0.680249</td>\n",
       "      <td>0.668384</td>\n",
       "    </tr>\n",
       "    <tr>\n",
       "      <th>23</th>\n",
       "      <td>seo_facebook</td>\n",
       "      <td>59</td>\n",
       "      <td>0.013580</td>\n",
       "      <td>7732</td>\n",
       "      <td>0.013396</td>\n",
       "      <td>0.000152</td>\n",
       "      <td>0.801216</td>\n",
       "      <td>0.790335</td>\n",
       "    </tr>\n",
       "  </tbody>\n",
       "</table>\n",
       "</div>"
      ],
      "text/plain": [
       "             source  price  conversion_rate  sample_count       var        se  \\\n",
       "0          ads-bing     39         0.013355         14601  0.013177  0.000109   \n",
       "1          ads-bing     59         0.009550          8272  0.009459  0.000104   \n",
       "2        ads-google     39         0.022555         37863  0.022046  0.000113   \n",
       "3        ads-google     59         0.019613         21516  0.019229  0.000131   \n",
       "4         ads-yahoo     39         0.016812          4818  0.016529  0.000238   \n",
       "5         ads-yahoo     59         0.011212          2765  0.011086  0.000211   \n",
       "6      ads_facebook     39         0.023643         34090  0.023084  0.000125   \n",
       "7      ads_facebook     59         0.016886         19306  0.016601  0.000119   \n",
       "8         ads_other     39         0.015458         19278  0.015219  0.000110   \n",
       "9         ads_other     59         0.012361         10598  0.012208  0.000119   \n",
       "10   direct_traffic     39         0.013497         38750  0.013315  0.000068   \n",
       "11   direct_traffic     59         0.010182         21607  0.010078  0.000069   \n",
       "12  friend_referral     39         0.041679         13124  0.039942  0.000349   \n",
       "13  friend_referral     59         0.033549          7571  0.032424  0.000373   \n",
       "14         seo-bing     39         0.030008          1333  0.029107  0.000797   \n",
       "15         seo-bing     59         0.013415           820  0.013235  0.000462   \n",
       "16       seo-google     39         0.017482         15101  0.017177  0.000140   \n",
       "17       seo-google     59         0.016101          8074  0.015842  0.000176   \n",
       "18        seo-other     39         0.017502          5885  0.017196  0.000224   \n",
       "19        seo-other     59         0.012444          3375  0.012290  0.000212   \n",
       "20        seo-yahoo     39         0.019513          4356  0.019133  0.000290   \n",
       "21        seo-yahoo     59         0.010433          2492  0.010325  0.000207   \n",
       "22     seo_facebook     39         0.017442         13473  0.017138  0.000148   \n",
       "23     seo_facebook     59         0.013580          7732  0.013396  0.000152   \n",
       "\n",
       "         rev   rev_var  \n",
       "0   0.520855  0.513899  \n",
       "1   0.563467  0.558086  \n",
       "2   0.879645  0.859805  \n",
       "3   1.157185  1.134489  \n",
       "4   0.655666  0.644643  \n",
       "5   0.661483  0.654067  \n",
       "6   0.922089  0.900287  \n",
       "7   0.996271  0.979448  \n",
       "8   0.602863  0.593544  \n",
       "9   0.729289  0.720274  \n",
       "10  0.526374  0.519270  \n",
       "11  0.600731  0.594615  \n",
       "12  1.625495  1.557746  \n",
       "13  1.979395  1.912988  \n",
       "14  1.170293  1.135175  \n",
       "15  0.791463  0.780846  \n",
       "16  0.681809  0.669890  \n",
       "17  0.949963  0.934667  \n",
       "18  0.682583  0.670636  \n",
       "19  0.734222  0.725085  \n",
       "20  0.761019  0.746169  \n",
       "21  0.615570  0.609147  \n",
       "22  0.680249  0.668384  \n",
       "23  0.801216  0.790335  "
      ]
     },
     "execution_count": 150,
     "metadata": {},
     "output_type": "execute_result"
    }
   ],
   "source": [
    "#We can also for differences by the source of the user\n",
    "sources = all_test.groupby(['source','price']).agg({'converted':'mean', 'test':'count'}).rename(columns = {'converted':'conversion_rate', 'test':'sample_count'})\n",
    "sources = sources.reset_index()\n",
    "sources = add_stats_after_aggregation(sources)\n",
    "sources"
   ]
  },
  {
   "cell_type": "code",
   "execution_count": 156,
   "metadata": {},
   "outputs": [
    {
     "data": {
      "application/javascript": [
       "var spec = {\"config\": {\"view\": {\"width\": 400, \"height\": 300}}, \"data\": {\"url\": \"altair-data-6123c0bd79c6bbcb615ec55b29ce621e.json\", \"format\": {\"type\": \"json\"}}, \"mark\": \"point\", \"encoding\": {\"color\": {\"type\": \"ordinal\", \"field\": \"price\"}, \"x\": {\"type\": \"ordinal\", \"field\": \"source\"}, \"y\": {\"type\": \"quantitative\", \"field\": \"rev\"}}, \"$schema\": \"https://vega.github.io/schema/vega-lite/v2.6.0.json\"};\n",
       "var opt = {};\n",
       "var type = \"vega-lite\";\n",
       "var id = \"9b6e2032-44d5-4ec7-947f-fdaf75f431b2\";\n",
       "\n",
       "var output_area = this;\n",
       "\n",
       "require([\"nbextensions/jupyter-vega/index\"], function(vega) {\n",
       "  var target = document.createElement(\"div\");\n",
       "  target.id = id;\n",
       "  target.className = \"vega-embed\";\n",
       "\n",
       "  var style = document.createElement(\"style\");\n",
       "  style.textContent = [\n",
       "    \".vega-embed .error p {\",\n",
       "    \"  color: firebrick;\",\n",
       "    \"  font-size: 14px;\",\n",
       "    \"}\",\n",
       "  ].join(\"\\\\n\");\n",
       "\n",
       "  // element is a jQuery wrapped DOM element inside the output area\n",
       "  // see http://ipython.readthedocs.io/en/stable/api/generated/\\\n",
       "  // IPython.display.html#IPython.display.Javascript.__init__\n",
       "  element[0].appendChild(target);\n",
       "  element[0].appendChild(style);\n",
       "\n",
       "  vega.render(\"#\" + id, spec, type, opt, output_area);\n",
       "}, function (err) {\n",
       "  if (err.requireType !== \"scripterror\") {\n",
       "    throw(err);\n",
       "  }\n",
       "});\n"
      ],
      "text/plain": [
       "<vega.vegalite.VegaLite at 0x122951630>"
      ]
     },
     "metadata": {
      "jupyter-vega": "#9b6e2032-44d5-4ec7-947f-fdaf75f431b2"
     },
     "output_type": "display_data"
    },
    {
     "data": {
      "text/plain": []
     },
     "execution_count": 156,
     "metadata": {},
     "output_type": "execute_result"
    },
    {
     "data": {
      "image/png": "[encoded data removed]"
     },
     "metadata": {
      "jupyter-vega": "#9b6e2032-44d5-4ec7-947f-fdaf75f431b2"
     },
     "output_type": "display_data"
    }
   ],
   "source": [
    "alt.Chart(sources.reset_index()).mark_point().encode(\n",
    "    x='source:O',\n",
    "    y='rev:Q',\n",
    "    color = 'price:O'\n",
    ")"
   ]
  },
  {
   "cell_type": "code",
   "execution_count": 138,
   "metadata": {},
   "outputs": [],
   "source": [
    "ops = all_test.groupby(['operative_system','price']).agg({'converted':'mean', 'test':'count'}).rename(columns = {'converted':'conversion_rate', 'test':'sample_count'})"
   ]
  },
  {
   "cell_type": "code",
   "execution_count": 142,
   "metadata": {},
   "outputs": [],
   "source": [
    "ops = ops.reset_index()"
   ]
  },
  {
   "cell_type": "code",
   "execution_count": 143,
   "metadata": {},
   "outputs": [
    {
     "data": {
      "text/html": [
       "<div>\n",
       "<style scoped>\n",
       "    .dataframe tbody tr th:only-of-type {\n",
       "        vertical-align: middle;\n",
       "    }\n",
       "\n",
       "    .dataframe tbody tr th {\n",
       "        vertical-align: top;\n",
       "    }\n",
       "\n",
       "    .dataframe thead th {\n",
       "        text-align: right;\n",
       "    }\n",
       "</style>\n",
       "<table border=\"1\" class=\"dataframe\">\n",
       "  <thead>\n",
       "    <tr style=\"text-align: right;\">\n",
       "      <th></th>\n",
       "      <th>operative_system</th>\n",
       "      <th>price</th>\n",
       "      <th>conversion_rate</th>\n",
       "      <th>sample_count</th>\n",
       "    </tr>\n",
       "  </thead>\n",
       "  <tbody>\n",
       "    <tr>\n",
       "      <th>0</th>\n",
       "      <td>android</td>\n",
       "      <td>39</td>\n",
       "      <td>0.016325</td>\n",
       "      <td>48209</td>\n",
       "    </tr>\n",
       "    <tr>\n",
       "      <th>1</th>\n",
       "      <td>android</td>\n",
       "      <td>59</td>\n",
       "      <td>0.012422</td>\n",
       "      <td>26726</td>\n",
       "    </tr>\n",
       "    <tr>\n",
       "      <th>2</th>\n",
       "      <td>iOS</td>\n",
       "      <td>39</td>\n",
       "      <td>0.023592</td>\n",
       "      <td>61843</td>\n",
       "    </tr>\n",
       "    <tr>\n",
       "      <th>3</th>\n",
       "      <td>iOS</td>\n",
       "      <td>59</td>\n",
       "      <td>0.019987</td>\n",
       "      <td>33622</td>\n",
       "    </tr>\n",
       "    <tr>\n",
       "      <th>4</th>\n",
       "      <td>linux</td>\n",
       "      <td>39</td>\n",
       "      <td>0.015413</td>\n",
       "      <td>2206</td>\n",
       "    </tr>\n",
       "    <tr>\n",
       "      <th>5</th>\n",
       "      <td>linux</td>\n",
       "      <td>59</td>\n",
       "      <td>0.000000</td>\n",
       "      <td>1929</td>\n",
       "    </tr>\n",
       "    <tr>\n",
       "      <th>6</th>\n",
       "      <td>mac</td>\n",
       "      <td>39</td>\n",
       "      <td>0.025437</td>\n",
       "      <td>16354</td>\n",
       "    </tr>\n",
       "    <tr>\n",
       "      <th>7</th>\n",
       "      <td>mac</td>\n",
       "      <td>59</td>\n",
       "      <td>0.021303</td>\n",
       "      <td>8731</td>\n",
       "    </tr>\n",
       "    <tr>\n",
       "      <th>8</th>\n",
       "      <td>other</td>\n",
       "      <td>39</td>\n",
       "      <td>0.014012</td>\n",
       "      <td>10491</td>\n",
       "    </tr>\n",
       "    <tr>\n",
       "      <th>9</th>\n",
       "      <td>other</td>\n",
       "      <td>59</td>\n",
       "      <td>0.011027</td>\n",
       "      <td>5713</td>\n",
       "    </tr>\n",
       "    <tr>\n",
       "      <th>10</th>\n",
       "      <td>windows</td>\n",
       "      <td>39</td>\n",
       "      <td>0.018688</td>\n",
       "      <td>63569</td>\n",
       "    </tr>\n",
       "    <tr>\n",
       "      <th>11</th>\n",
       "      <td>windows</td>\n",
       "      <td>59</td>\n",
       "      <td>0.014008</td>\n",
       "      <td>37407</td>\n",
       "    </tr>\n",
       "  </tbody>\n",
       "</table>\n",
       "</div>"
      ],
      "text/plain": [
       "   operative_system  price  conversion_rate  sample_count\n",
       "0           android     39         0.016325         48209\n",
       "1           android     59         0.012422         26726\n",
       "2               iOS     39         0.023592         61843\n",
       "3               iOS     59         0.019987         33622\n",
       "4             linux     39         0.015413          2206\n",
       "5             linux     59         0.000000          1929\n",
       "6               mac     39         0.025437         16354\n",
       "7               mac     59         0.021303          8731\n",
       "8             other     39         0.014012         10491\n",
       "9             other     59         0.011027          5713\n",
       "10          windows     39         0.018688         63569\n",
       "11          windows     59         0.014008         37407"
      ]
     },
     "execution_count": 143,
     "metadata": {},
     "output_type": "execute_result"
    }
   ],
   "source": [
    "ops"
   ]
  },
  {
   "cell_type": "code",
   "execution_count": 145,
   "metadata": {},
   "outputs": [
    {
     "data": {
      "text/html": [
       "<div>\n",
       "<style scoped>\n",
       "    .dataframe tbody tr th:only-of-type {\n",
       "        vertical-align: middle;\n",
       "    }\n",
       "\n",
       "    .dataframe tbody tr th {\n",
       "        vertical-align: top;\n",
       "    }\n",
       "\n",
       "    .dataframe thead th {\n",
       "        text-align: right;\n",
       "    }\n",
       "</style>\n",
       "<table border=\"1\" class=\"dataframe\">\n",
       "  <thead>\n",
       "    <tr style=\"text-align: right;\">\n",
       "      <th></th>\n",
       "      <th>operative_system</th>\n",
       "      <th>price</th>\n",
       "      <th>conversion_rate</th>\n",
       "      <th>sample_count</th>\n",
       "      <th>var</th>\n",
       "      <th>se</th>\n",
       "      <th>rev</th>\n",
       "      <th>rev_var</th>\n",
       "    </tr>\n",
       "  </thead>\n",
       "  <tbody>\n",
       "    <tr>\n",
       "      <th>0</th>\n",
       "      <td>android</td>\n",
       "      <td>39</td>\n",
       "      <td>0.016325</td>\n",
       "      <td>48209</td>\n",
       "      <td>0.016058</td>\n",
       "      <td>0.000073</td>\n",
       "      <td>0.636665</td>\n",
       "      <td>0.626272</td>\n",
       "    </tr>\n",
       "    <tr>\n",
       "      <th>1</th>\n",
       "      <td>android</td>\n",
       "      <td>59</td>\n",
       "      <td>0.012422</td>\n",
       "      <td>26726</td>\n",
       "      <td>0.012268</td>\n",
       "      <td>0.000075</td>\n",
       "      <td>0.732919</td>\n",
       "      <td>0.723815</td>\n",
       "    </tr>\n",
       "    <tr>\n",
       "      <th>2</th>\n",
       "      <td>iOS</td>\n",
       "      <td>39</td>\n",
       "      <td>0.023592</td>\n",
       "      <td>61843</td>\n",
       "      <td>0.023035</td>\n",
       "      <td>0.000093</td>\n",
       "      <td>0.920088</td>\n",
       "      <td>0.898381</td>\n",
       "    </tr>\n",
       "    <tr>\n",
       "      <th>3</th>\n",
       "      <td>iOS</td>\n",
       "      <td>59</td>\n",
       "      <td>0.019987</td>\n",
       "      <td>33622</td>\n",
       "      <td>0.019587</td>\n",
       "      <td>0.000107</td>\n",
       "      <td>1.179228</td>\n",
       "      <td>1.155659</td>\n",
       "    </tr>\n",
       "    <tr>\n",
       "      <th>4</th>\n",
       "      <td>linux</td>\n",
       "      <td>39</td>\n",
       "      <td>0.015413</td>\n",
       "      <td>2206</td>\n",
       "      <td>0.015175</td>\n",
       "      <td>0.000323</td>\n",
       "      <td>0.601088</td>\n",
       "      <td>0.591824</td>\n",
       "    </tr>\n",
       "    <tr>\n",
       "      <th>5</th>\n",
       "      <td>linux</td>\n",
       "      <td>59</td>\n",
       "      <td>0.000000</td>\n",
       "      <td>1929</td>\n",
       "      <td>0.000000</td>\n",
       "      <td>0.000000</td>\n",
       "      <td>0.000000</td>\n",
       "      <td>0.000000</td>\n",
       "    </tr>\n",
       "    <tr>\n",
       "      <th>6</th>\n",
       "      <td>mac</td>\n",
       "      <td>39</td>\n",
       "      <td>0.025437</td>\n",
       "      <td>16354</td>\n",
       "      <td>0.024790</td>\n",
       "      <td>0.000194</td>\n",
       "      <td>0.992051</td>\n",
       "      <td>0.966816</td>\n",
       "    </tr>\n",
       "    <tr>\n",
       "      <th>7</th>\n",
       "      <td>mac</td>\n",
       "      <td>59</td>\n",
       "      <td>0.021303</td>\n",
       "      <td>8731</td>\n",
       "      <td>0.020850</td>\n",
       "      <td>0.000223</td>\n",
       "      <td>1.256901</td>\n",
       "      <td>1.230124</td>\n",
       "    </tr>\n",
       "    <tr>\n",
       "      <th>8</th>\n",
       "      <td>other</td>\n",
       "      <td>39</td>\n",
       "      <td>0.014012</td>\n",
       "      <td>10491</td>\n",
       "      <td>0.013816</td>\n",
       "      <td>0.000135</td>\n",
       "      <td>0.546468</td>\n",
       "      <td>0.538811</td>\n",
       "    </tr>\n",
       "    <tr>\n",
       "      <th>9</th>\n",
       "      <td>other</td>\n",
       "      <td>59</td>\n",
       "      <td>0.011027</td>\n",
       "      <td>5713</td>\n",
       "      <td>0.010906</td>\n",
       "      <td>0.000144</td>\n",
       "      <td>0.650621</td>\n",
       "      <td>0.643447</td>\n",
       "    </tr>\n",
       "    <tr>\n",
       "      <th>10</th>\n",
       "      <td>windows</td>\n",
       "      <td>39</td>\n",
       "      <td>0.018688</td>\n",
       "      <td>63569</td>\n",
       "      <td>0.018339</td>\n",
       "      <td>0.000073</td>\n",
       "      <td>0.728846</td>\n",
       "      <td>0.715225</td>\n",
       "    </tr>\n",
       "    <tr>\n",
       "      <th>11</th>\n",
       "      <td>windows</td>\n",
       "      <td>59</td>\n",
       "      <td>0.014008</td>\n",
       "      <td>37407</td>\n",
       "      <td>0.013812</td>\n",
       "      <td>0.000071</td>\n",
       "      <td>0.826476</td>\n",
       "      <td>0.814899</td>\n",
       "    </tr>\n",
       "  </tbody>\n",
       "</table>\n",
       "</div>"
      ],
      "text/plain": [
       "   operative_system  price  conversion_rate  sample_count       var        se  \\\n",
       "0           android     39         0.016325         48209  0.016058  0.000073   \n",
       "1           android     59         0.012422         26726  0.012268  0.000075   \n",
       "2               iOS     39         0.023592         61843  0.023035  0.000093   \n",
       "3               iOS     59         0.019987         33622  0.019587  0.000107   \n",
       "4             linux     39         0.015413          2206  0.015175  0.000323   \n",
       "5             linux     59         0.000000          1929  0.000000  0.000000   \n",
       "6               mac     39         0.025437         16354  0.024790  0.000194   \n",
       "7               mac     59         0.021303          8731  0.020850  0.000223   \n",
       "8             other     39         0.014012         10491  0.013816  0.000135   \n",
       "9             other     59         0.011027          5713  0.010906  0.000144   \n",
       "10          windows     39         0.018688         63569  0.018339  0.000073   \n",
       "11          windows     59         0.014008         37407  0.013812  0.000071   \n",
       "\n",
       "         rev   rev_var  \n",
       "0   0.636665  0.626272  \n",
       "1   0.732919  0.723815  \n",
       "2   0.920088  0.898381  \n",
       "3   1.179228  1.155659  \n",
       "4   0.601088  0.591824  \n",
       "5   0.000000  0.000000  \n",
       "6   0.992051  0.966816  \n",
       "7   1.256901  1.230124  \n",
       "8   0.546468  0.538811  \n",
       "9   0.650621  0.643447  \n",
       "10  0.728846  0.715225  \n",
       "11  0.826476  0.814899  "
      ]
     },
     "execution_count": 145,
     "metadata": {},
     "output_type": "execute_result"
    }
   ],
   "source": [
    "ops = add_stats_after_aggregation(ops)\n",
    "ops"
   ]
  },
  {
   "cell_type": "code",
   "execution_count": 147,
   "metadata": {},
   "outputs": [
    {
     "name": "stdout",
     "output_type": "stream",
     "text": [
      "sed: 0.0003231\n",
      "t-stat: 47.703\n",
      "p-value: 0.0000000\n"
     ]
    },
    {
     "data": {
      "text/plain": [
       "(47.703301945107064, 4133)"
      ]
     },
     "execution_count": 147,
     "metadata": {},
     "output_type": "execute_result"
    }
   ],
   "source": [
    "stats_for_ttest(ops.iloc[4],ops.iloc[5]) #Still way overpowered"
   ]
  },
  {
   "cell_type": "code",
   "execution_count": 155,
   "metadata": {},
   "outputs": [
    {
     "data": {
      "application/javascript": [
       "var spec = {\"config\": {\"view\": {\"width\": 400, \"height\": 300}}, \"data\": {\"url\": \"altair-data-836f6e1ff15d724f14320c1b82ef798d.json\", \"format\": {\"type\": \"json\"}}, \"mark\": \"point\", \"encoding\": {\"color\": {\"type\": \"ordinal\", \"field\": \"price\"}, \"x\": {\"type\": \"ordinal\", \"field\": \"operative_system\"}, \"y\": {\"type\": \"quantitative\", \"field\": \"rev\"}}, \"$schema\": \"https://vega.github.io/schema/vega-lite/v2.6.0.json\"};\n",
       "var opt = {};\n",
       "var type = \"vega-lite\";\n",
       "var id = \"a640bfd5-d216-4f34-b5e7-e126ce6e42b4\";\n",
       "\n",
       "var output_area = this;\n",
       "\n",
       "require([\"nbextensions/jupyter-vega/index\"], function(vega) {\n",
       "  var target = document.createElement(\"div\");\n",
       "  target.id = id;\n",
       "  target.className = \"vega-embed\";\n",
       "\n",
       "  var style = document.createElement(\"style\");\n",
       "  style.textContent = [\n",
       "    \".vega-embed .error p {\",\n",
       "    \"  color: firebrick;\",\n",
       "    \"  font-size: 14px;\",\n",
       "    \"}\",\n",
       "  ].join(\"\\\\n\");\n",
       "\n",
       "  // element is a jQuery wrapped DOM element inside the output area\n",
       "  // see http://ipython.readthedocs.io/en/stable/api/generated/\\\n",
       "  // IPython.display.html#IPython.display.Javascript.__init__\n",
       "  element[0].appendChild(target);\n",
       "  element[0].appendChild(style);\n",
       "\n",
       "  vega.render(\"#\" + id, spec, type, opt, output_area);\n",
       "}, function (err) {\n",
       "  if (err.requireType !== \"scripterror\") {\n",
       "    throw(err);\n",
       "  }\n",
       "});\n"
      ],
      "text/plain": [
       "<vega.vegalite.VegaLite at 0x12294f4a8>"
      ]
     },
     "metadata": {
      "jupyter-vega": "#a640bfd5-d216-4f34-b5e7-e126ce6e42b4"
     },
     "output_type": "display_data"
    },
    {
     "data": {
      "text/plain": []
     },
     "execution_count": 155,
     "metadata": {},
     "output_type": "execute_result"
    },
    {
     "data": {
      "image/png": "[encoded data removed]"
     },
     "metadata": {
      "jupyter-vega": "#a640bfd5-d216-4f34-b5e7-e126ce6e42b4"
     },
     "output_type": "display_data"
    }
   ],
   "source": [
    "alt.Chart(ops.reset_index()).mark_point().encode(\n",
    "    x='operative_system:O',\n",
    "    y='rev:Q',\n",
    "    color = 'price:O'\n",
    ")"
   ]
  },
  {
   "cell_type": "code",
   "execution_count": 158,
   "metadata": {},
   "outputs": [
    {
     "data": {
      "text/plain": [
       "316800"
      ]
     },
     "execution_count": 158,
     "metadata": {},
     "output_type": "execute_result"
    }
   ],
   "source": [
    "ops['sample_count'].sum()"
   ]
  },
  {
   "cell_type": "code",
   "execution_count": 159,
   "metadata": {},
   "outputs": [
    {
     "data": {
      "text/plain": [
       "0.03787878787878788"
      ]
     },
     "execution_count": 159,
     "metadata": {},
     "output_type": "execute_result"
    }
   ],
   "source": [
    "#The groups we'd expect to lose revenue from account from about 4% of users\n",
    "12000/316800"
   ]
  },
  {
   "cell_type": "code",
   "execution_count": null,
   "metadata": {},
   "outputs": [],
   "source": []
  }
 ],
 "metadata": {
  "kernelspec": {
   "display_name": "Python 3",
   "language": "python",
   "name": "python3"
  },
  "language_info": {
   "codemirror_mode": {
    "name": "ipython",
    "version": 3
   },
   "file_extension": ".py",
   "mimetype": "text/x-python",
   "name": "python",
   "nbconvert_exporter": "python",
   "pygments_lexer": "ipython3",
   "version": "3.6.6"
  }
 },
 "nbformat": 4,
 "nbformat_minor": 2
}
